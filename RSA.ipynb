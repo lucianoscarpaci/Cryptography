{
 "cells": [
  {
   "cell_type": "code",
   "execution_count": 1,
   "id": "0ccf89fd-0529-4a22-821c-9576bd1bfc73",
   "metadata": {},
   "outputs": [
    {
     "data": {
      "text/plain": [
       "'SageMath version 10.4, Release Date: 2024-07-19'"
      ]
     },
     "execution_count": 1,
     "metadata": {},
     "output_type": "execute_result"
    }
   ],
   "source": [
    "version()"
   ]
  },
  {
   "cell_type": "code",
   "execution_count": 2,
   "id": "834788c1-71f9-414f-bc07-9053db0918ac",
   "metadata": {},
   "outputs": [],
   "source": [
    "class RSAKeyGeneration:\n",
    "\tdef __init__(self, p, q, n, phi, e, d):\n",
    "\t\tself.p = p\n",
    "\t\tself.q = q\n",
    "\t\tself.n = n\n",
    "\t\tself.phi = phi\n",
    "\t\tself.e = e\n",
    "\t\tself.d = d\n",
    "\n",
    "\tdef key_generation(self):\n",
    "\t\t# n = p * q\n",
    "\t\tself.n = self.p * self.q\n",
    "\t\t# phi = (p-1) * (q-1)\n",
    "\t\tself.phi = (self.p - 1) * (self.q - 1)\n",
    "\t\t# d = e^-1 mod phi\n",
    "\t\tself.d = pow(self.e, -1, self.phi)\n",
    "\t\treturn self.p, self.q, self.n, self.phi, self.e, self.d"
   ]
  },
  {
   "cell_type": "markdown",
   "id": "b8074a10-fb9a-486c-a98a-accc481c5b3b",
   "metadata": {},
   "source": [
    "## Calculate p, q, n, phi, e, d\n",
    "p = 2^19 - 1 = 524287 \\\n",
    "q = 2^31 - 1 = 2147483647 \\\n",
    "n = p * q = 1125897758834689 \\\n",
    "e = 167688244073353 \\\n",
    "d = 709806545004121 \\\n",
    "Generate e so e is between 1 and phi \\\n",
    "e is exponent of public key and d is exponent of private key \\\n",
    "e is precomputed but it can be found using gcd \\\n",
    "d is (e mod phi) inverse"
   ]
  },
  {
   "cell_type": "code",
   "execution_count": 3,
   "id": "0fc951cd-064f-48b1-bbc6-097121e438c3",
   "metadata": {},
   "outputs": [],
   "source": [
    "# arguments p = 2^19 - 1, q = 2^31 - 1, e = 167688244073353\n",
    "RSA = RSAKeyGeneration(2**19-1, 2**31-1, 0, 0, 167688244073353, 0)\n",
    "p, q, n, phi, e, d = RSA.key_generation()"
   ]
  },
  {
   "cell_type": "code",
   "execution_count": 4,
   "id": "5f114295-82eb-47c7-a89d-d885500f401a",
   "metadata": {},
   "outputs": [],
   "source": [
    "class RSAEncryption:\n",
    "\tdef __init__(self, m, n, e):\n",
    "\t\tself.m = m\n",
    "\t\tself.n = n\n",
    "\t\tself.e = e\n",
    "\t\n",
    "\tdef encode(self, m):\n",
    "\t\tmsg = 0\n",
    "\t\tfor char in m:\n",
    "\t\t\tmsg = ((msg << 8) & 0xFFFFFFFFFFFFFFFF) + ord(char)\n",
    "\t\treturn msg\n",
    "\n",
    "\tdef encryption(self, m):\n",
    "\t\t# c = m^e mod n\n",
    "\t\tc = pow(m, self.e, self.n)\n",
    "\t\treturn c"
   ]
  },
  {
   "cell_type": "markdown",
   "id": "fcba348e-9b5c-4e78-afb5-6d35da64d3e4",
   "metadata": {},
   "source": [
    "## Encryption\n",
    "m = 'hacker'\n",
    "m is encoded in order using each char. 'h' 'a' 'c' 'k' 'e' 'r' \\\n",
    "using bitshift to the left and masking technique results in an accumulated encoded message \\\n",
    "the encoded message gets encrypted with public key: (n, e) into a ciphertext"
   ]
  },
  {
   "cell_type": "code",
   "execution_count": 7,
   "id": "127ac81d-f537-493f-9574-ef39e1d5ac3f",
   "metadata": {},
   "outputs": [
    {
     "name": "stdout",
     "output_type": "stream",
     "text": [
      "encoded-message: 114767489099122\n",
      "ciphertext: 368085813970294\n"
     ]
    }
   ],
   "source": [
    "# arguments m, n, e\n",
    "m = 'hacker'\n",
    "RSA = RSAEncryption(m, n, e)\n",
    "m = RSA.encode(m)\n",
    "print(f\"encoded-message: {m}\")\n",
    "c = RSA.encryption(m)\n",
    "print(f\"ciphertext: {c}\")"
   ]
  },
  {
   "cell_type": "code",
   "execution_count": 8,
   "id": "7f635999-9261-4cf6-98ae-49ad533ad237",
   "metadata": {},
   "outputs": [],
   "source": [
    "class RSADecryption:\n",
    "\tdef __init__(self, c, n, d):\n",
    "\t\tself.c = c\n",
    "\t\tself.n = n\n",
    "\t\tself.d = d\n",
    "\n",
    "\tdef decryption(self, c):\n",
    "\t\t# m = c^d mod n\n",
    "\t\tm = pow(c, self.d, self.n)\n",
    "\t\treturn m\n",
    "\n",
    "\tdef decode(self, m):\n",
    "\t\tmsg = []\n",
    "\t\twhile m > 0:\n",
    "\t\t\tmsg.append(chr(m % 256))\n",
    "\t\t\tm = m // 256\n",
    "\t\treturn ''.join(msg[::-1])"
   ]
  },
  {
   "cell_type": "markdown",
   "id": "d7f2a041-e4a0-4ad5-bab3-9206dbd821a0",
   "metadata": {},
   "source": [
    "## Decryption\n",
    "The ciphertext gets decrypted using private key: (n,d) \\\n",
    "The message gets decoded and results in 'r' 'e' 'k' 'c' 'a' 'h' and then gets joined 'rekcah' and string reversed 'hacker'"
   ]
  },
  {
   "cell_type": "code",
   "execution_count": 9,
   "id": "cfde0ed2-7672-4d2d-bac7-03924a5ed07d",
   "metadata": {},
   "outputs": [
    {
     "name": "stdout",
     "output_type": "stream",
     "text": [
      "hacker\n"
     ]
    }
   ],
   "source": [
    "# arguments c, n, d\n",
    "RSA = RSADecryption(c, n, d)\n",
    "m = RSA.decryption(c)\n",
    "m = RSA.decode(m)\n",
    "print(m)"
   ]
  }
 ],
 "metadata": {
  "kernelspec": {
   "display_name": "SageMath 10.4",
   "language": "sage",
   "name": "sagemath"
  },
  "language_info": {
   "codemirror_mode": {
    "name": "ipython",
    "version": 3
   },
   "file_extension": ".py",
   "mimetype": "text/x-python",
   "name": "python",
   "nbconvert_exporter": "python",
   "pygments_lexer": "ipython3",
   "version": "3.12.4"
  }
 },
 "nbformat": 4,
 "nbformat_minor": 5
}
