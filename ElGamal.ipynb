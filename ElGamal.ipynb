{
 "cells": [
  {
   "cell_type": "code",
   "execution_count": 92,
   "id": "fd88701e-63ff-4ac5-8ef0-131489877928",
   "metadata": {},
   "outputs": [
    {
     "data": {
      "text/plain": [
       "'SageMath version 10.4, Release Date: 2024-07-19'"
      ]
     },
     "execution_count": 92,
     "metadata": {},
     "output_type": "execute_result"
    }
   ],
   "source": [
    "version()"
   ]
  },
  {
   "cell_type": "code",
   "execution_count": 93,
   "id": "2fc391da-300e-43b6-91de-60b5c5a97323",
   "metadata": {},
   "outputs": [],
   "source": [
    "class ElGamalKeyGeneration:\n",
    "    def __init__(self, P, R, a):\n",
    "        self.P = P\n",
    "        self.R = R\n",
    "        self.a = a\n",
    "\n",
    "    def key_generation(self):\n",
    "        # Convert exponent to binary representation\n",
    "        binary_exponent = bin(self.a)[2:]\n",
    "\n",
    "        # Initialize the result variable\n",
    "        result = 1\n",
    "\n",
    "        # Iterate through binary representation from left to right\n",
    "        for bit in binary_exponent:\n",
    "            # Square the result variable\n",
    "            result = result * result % self.P\n",
    "\n",
    "            # If current bit is 1, multiply result by base (R)\n",
    "            if bit == '1':\n",
    "                result = result * self.R % self.P\n",
    "\n",
    "        # Print the public key\n",
    "        print(f\"public key: {self.P}, {self.R}, {result}\")"
   ]
  },
  {
   "cell_type": "markdown",
   "id": "cb6d79b3-fe51-4071-b973-045322d59add",
   "metadata": {},
   "source": [
    "## Calculate the public key\n",
    "\"A\" has modulus p = 2357, a generator R = 2, a = 1751 \\\n",
    "public key (p=2357, R=2, 2^1751=1185)"
   ]
  },
  {
   "cell_type": "code",
   "execution_count": 94,
   "id": "00ab28b4-e109-4fdd-b3b4-6be5c1055aee",
   "metadata": {},
   "outputs": [
    {
     "name": "stdout",
     "output_type": "stream",
     "text": [
      "public key: 2357, 2, 1185\n"
     ]
    }
   ],
   "source": [
    "# arguments p = modulus, R = generator, a = alpha\n",
    "keygen = ElGamalKeyGeneration(2357, 2, 1751)\n",
    "# Call the key_generation method\n",
    "keygen.key_generation()"
   ]
  },
  {
   "cell_type": "code",
   "execution_count": 95,
   "id": "e9d871c5-da16-41f3-9731-dec8a71fc1b6",
   "metadata": {},
   "outputs": [],
   "source": [
    "class ElGamalEncryption:\n",
    "    def __init__(self, m, p, k):\n",
    "        self.m = m\n",
    "        self.p = p\n",
    "        self.k = k\n",
    "\n",
    "    def calculate_g(self):\n",
    "        # Calculate g, third arg is modulus\n",
    "        g = pow(2, self.k, 2357)\n",
    "        return g\n",
    "\n",
    "    def calculate_d(self):\n",
    "        # Calculate d = (m * p^k) mod p\n",
    "        d = (self.m * (self.p ** self.k)) % 2357\n",
    "        return d"
   ]
  },
  {
   "cell_type": "markdown",
   "id": "d7d0caf4-7dbf-473e-9a58-bbd56d78dd53",
   "metadata": {},
   "source": [
    "## Encryption\n",
    "m = 2222 \"plaintext\" \\\n",
    "p = 1185 \"public key\" \\\n",
    "k = 1520 \"random number\" \\\n",
    "g = R^k = 2^1520 (mod 2357) = 1430 \\\n",
    "d = 2222 * p^k (mod 2357) = 1500 \\\n",
    "ciphertext (1430, 1500)"
   ]
  },
  {
   "cell_type": "code",
   "execution_count": 96,
   "id": "905a90a0-e710-4916-89a5-8081c333c2e3",
   "metadata": {},
   "outputs": [
    {
     "name": "stdout",
     "output_type": "stream",
     "text": [
      "ciphertext: 1430 1500\n"
     ]
    }
   ],
   "source": [
    "# arguments m = plaintext, p = public key, k = random number\n",
    "encryption = ElGamalEncryption(2222, 1185, 1520)\n",
    "g = encryption.calculate_g()\n",
    "d = encryption.calculate_d()\n",
    "print(f\"ciphertext: {g} {d}\")"
   ]
  },
  {
   "cell_type": "code",
   "execution_count": 97,
   "id": "63b4f847-b8c9-447e-ad24-686437733215",
   "metadata": {},
   "outputs": [],
   "source": [
    "class ElGamalDecryption:\n",
    "    def __init__(self, m, p, g, a, k):\n",
    "        self.m = m\n",
    "        self.p = p\n",
    "        self.g = g\n",
    "        self.a = a\n",
    "        self.k = k\n",
    "\n",
    "    def calculate_A(self):\n",
    "        a = (2357 - 1 - self.a)\n",
    "        # mod p\n",
    "        A = (1430 ** a) % 2357\n",
    "        d = ElGamalEncryption.calculate_d(self)\n",
    "        # mod p\n",
    "        m = (A * d) % 2357\n",
    "        return m"
   ]
  },
  {
   "cell_type": "markdown",
   "id": "8ef67306-8b01-4e23-9b31-5499077b869c",
   "metadata": {},
   "source": [
    "## Decryption\n",
    "mp = mod 2357 \\\n",
    "c = 1430 \"ciphertext\" \\\n",
    "m = 2222 \"plaintext\" \\\n",
    "p = 1185 \"public key\" \\\n",
    "g = 1751 \"generator\" \\\n",
    "d = 1500 \"ciphertext\" \\\n",
    "R = (mp - 1) - g = 605 \\\n",
    "A = (c ** R) (mp) = 872 \\\n",
    "m = A * d (mp) = 2222"
   ]
  },
  {
   "cell_type": "code",
   "execution_count": 98,
   "id": "992270f2-e076-4683-aa4f-4b8a8bbdda98",
   "metadata": {},
   "outputs": [
    {
     "name": "stdout",
     "output_type": "stream",
     "text": [
      "plaintext: 2222\n"
     ]
    }
   ],
   "source": [
    "# arguments m = message, p = public key, g = generator, a = alpha, k = random\n",
    "decryption = ElGamalDecryption(2222, 1185, 2, 1751, 1520)\n",
    "m = decryption.calculate_A()\n",
    "print(f\"plaintext: {m}\")"
   ]
  }
 ],
 "metadata": {
  "kernelspec": {
   "display_name": "SageMath 10.4",
   "language": "sage",
   "name": "sagemath"
  },
  "language_info": {
   "codemirror_mode": {
    "name": "ipython",
    "version": 3
   },
   "file_extension": ".py",
   "mimetype": "text/x-python",
   "name": "python",
   "nbconvert_exporter": "python",
   "pygments_lexer": "ipython3",
   "version": "3.12.4"
  }
 },
 "nbformat": 4,
 "nbformat_minor": 5
}
